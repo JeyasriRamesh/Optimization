{
 "cells": [
  {
   "cell_type": "markdown",
   "metadata": {},
   "source": [
    "Problem statement : https://drive.google.com/file/d/1eVUC3bp3aC5V7IVW3vMDCUkirSnb1h_9/view?usp=sharing\n",
    "\n",
    "Copyrights: U Dinesh Kumar. Business Analytics: The Science of Data-Driven Decision Making (p. 528). Wiley India. Kindle Edition."
   ]
  },
  {
   "cell_type": "markdown",
   "metadata": {},
   "source": [
    "<b>Decision Variables</b> \n",
    "\n",
    "X1 = Quantity (in kilogram) of DH to be produced  \n",
    "X2 = Quantity (in kilogram) of TH to be produced \n",
    "\n",
    "\n",
    "<b> Objective function </b>\n",
    "\n",
    "The objective is to maximize the profit. The profit on DH per kg is 45 and the profit  on TH per kg is 50. \n",
    "\n",
    "Maximize => 45 X1 + 50 X2 \n",
    "\n",
    "<b> Constraints </b>\n",
    "\n",
    "Constraint for corn flour => 20,000 grams of corn flour is available. Each kg of  AH requires 500 grams of corn flour and each kg of TH 500 grams of corn flour.  \n",
    "\n",
    "Thus, the corresponding constraint is  500 X1 + 500 X2 <= 20000  \n",
    "\n",
    "Constraint for sugar => 42,000 kg of sugar is available. Each kg of DH requires  750 grams of sugar and each kg of TH 625 grams of sugar. \n",
    "\n",
    "Thus the corresponding  constraint is  750 X1 + 625 X2 <= 42000  \n",
    "\n",
    "Constraint for fruit and nut => 10,400 kg of fruit and nut is available. Each kg of  DH requires 150 grams of fruit and nut and each kg of TH requires 100 grams of fruit  and nut. \n",
    "\n",
    "Thus the corresponding constraint is  150 X1 + 100 X2 <= 10400  \n",
    "\n",
    "Constraint for ghee => 9,600 kg of ghee is available. Each kg of DH requires 200  grams of ghee and each kg of TH requires 300 grams of ghee. \n",
    "\n",
    "Thus the corresponding  constraint is  200X1 + 300X2 <= 9600  \n",
    "\n",
    "Maximum demand constraint => The maximum daily demand for DH and TH  are 50 kg and 20 kg, respectively, which can be written as \n",
    "\n",
    "X1 ≤ 50 and X2 ≤ 20. \n",
    "\n",
    "Implicit constraints => X1, X2 - Non-negative. \n",
    "\n",
    "X1 >= 0 and X2 >= 0\n"
   ]
  },
  {
   "cell_type": "code",
   "execution_count": 54,
   "metadata": {},
   "outputs": [],
   "source": [
    "from gekko import GEKKO\n",
    "model = GEKKO()\n",
    "#model.options.SENSITIVITY = 1"
   ]
  },
  {
   "cell_type": "code",
   "execution_count": 55,
   "metadata": {},
   "outputs": [],
   "source": [
    "#Maximum demand and implicit contraints as upper bound and lower bound\n",
    "\n",
    "x1 = model.Var(lb=0, ub=50) # Product DH\n",
    "x2 = model.Var(lb=0, ub=20) # Product TH"
   ]
  },
  {
   "cell_type": "code",
   "execution_count": 56,
   "metadata": {},
   "outputs": [],
   "source": [
    "#Objective function\n",
    "\n",
    "model.Maximize(45*x1+50*x2) # Profit function"
   ]
  },
  {
   "cell_type": "code",
   "execution_count": 57,
   "metadata": {},
   "outputs": [
    {
     "data": {
      "text/plain": [
       "<gekko.gekko.EquationObj at 0x19526ec4908>"
      ]
     },
     "execution_count": 57,
     "metadata": {},
     "output_type": "execute_result"
    }
   ],
   "source": [
    "#Constraints\n",
    "\n",
    "model.Equation(500*x1+500*x2<=20000) #Cornflour\n",
    "model.Equation(750*x1+625*x2<=42000) #Sugar\n",
    "model.Equation(150*x1+100*x2<=10400) #Fruit and Nut\n",
    "model.Equation(200*x1+300*x2<=9600) #Ghee"
   ]
  },
  {
   "cell_type": "code",
   "execution_count": 58,
   "metadata": {},
   "outputs": [],
   "source": [
    "model.solve(disp=False)\n",
    "p1 = x1.value[0]; p2 = x2.value[0]"
   ]
  },
  {
   "cell_type": "code",
   "execution_count": 59,
   "metadata": {},
   "outputs": [
    {
     "name": "stdout",
     "output_type": "stream",
     "text": [
      "Product 1 (DH) in Kgs: 24.0\n",
      "Product 2 (TH) in Kgs: 16.0\n",
      "Profit       : Rs.1880.0\n"
     ]
    }
   ],
   "source": [
    "print ('Product 1 (DH) in Kgs: ' + str(p1))\n",
    "print ('Product 2 (TH) in Kgs: ' + str(p2))\n",
    "print ('Profit       : Rs.' + str(45*p1+50*p2))"
   ]
  },
  {
   "cell_type": "code",
   "execution_count": null,
   "metadata": {},
   "outputs": [],
   "source": []
  }
 ],
 "metadata": {
  "kernelspec": {
   "display_name": "Python 3",
   "language": "python",
   "name": "python3"
  },
  "language_info": {
   "codemirror_mode": {
    "name": "ipython",
    "version": 3
   },
   "file_extension": ".py",
   "mimetype": "text/x-python",
   "name": "python",
   "nbconvert_exporter": "python",
   "pygments_lexer": "ipython3",
   "version": "3.7.6"
  }
 },
 "nbformat": 4,
 "nbformat_minor": 4
}
