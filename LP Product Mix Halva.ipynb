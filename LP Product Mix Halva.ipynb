{
 "cells": [
  {
   "cell_type": "markdown",
   "metadata": {},
   "source": [
    "Problem statement : https://drive.google.com/file/d/1eVUC3bp3aC5V7IVW3vMDCUkirSnb1h_9/view?usp=sharing\n",
    "\n",
    "Copyrights: U Dinesh Kumar. Business Analytics: The Science of Data-Driven Decision Making (p. 528). Wiley India. Kindle Edition."
   ]
  },
  {
   "cell_type": "markdown",
   "metadata": {},
   "source": [
    "<b>Decision Variables</b> \n",
    "\n",
    "X1 = Quantity (in kilogram) of DH to be produced  \n",
    "X2 = Quantity (in kilogram) of TH to be produced \n",
    "\n",
    "\n",
    "<b> Objective function </b>\n",
    "\n",
    "The objective is to maximize the profit. The profit on DH per kg is 45 and the profit  on TH per kg is 50. \n",
    "\n",
    "Maximize => 45 X1 + 50 X2 \n",
    "\n",
    "<b> Constraints </b>\n",
    "\n",
    "Constraint for corn flour => 20,000 grams of corn flour is available. Each kg of  AH requires 500 grams of corn flour and each kg of TH 500 grams of corn flour.  \n",
    "\n",
    "Thus, the corresponding constraint is  500 X1 + 500 X2 <= 20000  \n",
    "\n",
    "Constraint for sugar => 42,000 kg of sugar is available. Each kg of DH requires  750 grams of sugar and each kg of TH 625 grams of sugar. \n",
    "\n",
    "Thus the corresponding  constraint is  750 X1 + 625 X2 <= 42000  \n",
    "\n",
    "Constraint for fruit and nut => 10,400 kg of fruit and nut is available. Each kg of  DH requires 150 grams of fruit and nut and each kg of TH requires 100 grams of fruit  and nut. \n",
    "\n",
    "Thus the corresponding constraint is  150 X1 + 100 X2 <= 10400  \n",
    "\n",
    "Constraint for ghee => 9,600 kg of ghee is available. Each kg of DH requires 200  grams of ghee and each kg of TH requires 300 grams of ghee. \n",
    "\n",
    "Thus the corresponding  constraint is  200X1 + 300X2 <= 9600  \n",
    "\n",
    "Maximum demand constraint => The maximum daily demand for DH and TH  are 50 kg and 20 kg, respectively, which can be written as \n",
    "\n",
    "X1 ≤ 50 and X2 ≤ 20. \n",
    "\n",
    "Implicit constraints => X1, X2 - Non-negative. \n",
    "\n",
    "X1 >= 0 and X2 >= 0\n"
   ]
  },
  {
   "cell_type": "code",
   "execution_count": 45,
   "metadata": {},
   "outputs": [],
   "source": [
    "from gekko import GEKKO\n",
    "model = GEKKO()\n",
    "#model.options.SENSITIVITY = 1"
   ]
  },
  {
   "cell_type": "code",
   "execution_count": 46,
   "metadata": {},
   "outputs": [],
   "source": [
    "#Maximum demand and implicit contraints as upper bound and lower bound\n",
    "\n",
    "x1 = model.Var(lb=0, ub=50) # Product DH\n",
    "x2 = model.Var(lb=0, ub=20) # Product TH"
   ]
  },
  {
   "cell_type": "code",
   "execution_count": 47,
   "metadata": {},
   "outputs": [],
   "source": [
    "#Objective function\n",
    "\n",
    "model.Maximize(45*x1+50*x2) # Profit function"
   ]
  },
  {
   "cell_type": "code",
   "execution_count": 48,
   "metadata": {},
   "outputs": [
    {
     "data": {
      "text/plain": [
       "<gekko.gekko.EquationObj at 0x19526ea8788>"
      ]
     },
     "execution_count": 48,
     "metadata": {},
     "output_type": "execute_result"
    }
   ],
   "source": [
    "#Constraints\n",
    "\n",
    "model.Equation(500*x1+500*x2<=20000) #Cornflour\n",
    "model.Equation(750*x1+625*x2<=42000) #Sugar\n",
    "model.Equation(150*x1+100*x2<=10400) #Fruit and Nut\n",
    "model.Equation(200*x1+300*x2<=9600) #Ghee"
   ]
  },
  {
   "cell_type": "code",
   "execution_count": 49,
   "metadata": {},
   "outputs": [
    {
     "name": "stdout",
     "output_type": "stream",
     "text": [
      "apm 49.205.78.68_gk_model4 <br><pre> ----------------------------------------------------------------\n",
      " APMonitor, Version 0.9.2\n",
      " APMonitor Optimization Suite\n",
      " ----------------------------------------------------------------\n",
      " \n",
      " \n",
      " Warning: there is insufficient data in CSV file 49.205.78.68_gk_model4.csv\n",
      " \n",
      " --------- APM Model Size ------------\n",
      " Each time step contains\n",
      "   Objects      :            0\n",
      "   Constants    :            0\n",
      "   Variables    :            6\n",
      "   Intermediates:            0\n",
      "   Connections  :            0\n",
      "   Equations    :            5\n",
      "   Residuals    :            5\n",
      " \n",
      " Number of state variables:              6\n",
      " Number of total equations: -            4\n",
      " Number of slack variables: -            4\n",
      " ---------------------------------------\n",
      " Degrees of freedom       :             -2\n",
      " \n",
      " * Warning: DOF <= 0\n",
      " **********************************************\n",
      " Steady State Optimization with Interior Point Solver\n",
      " **********************************************\n",
      "  \n",
      "  \n",
      " Info: Exact Hessian\n",
      "\n",
      "******************************************************************************\n",
      "This program contains Ipopt, a library for large-scale nonlinear optimization.\n",
      " Ipopt is released as open source code under the Eclipse Public License (EPL).\n",
      "         For more information visit http://projects.coin-or.org/Ipopt\n",
      "******************************************************************************\n",
      "\n",
      "This is Ipopt version 3.12.10, running with linear solver ma57.\n",
      "\n",
      "Number of nonzeros in equality constraint Jacobian...:       12\n",
      "Number of nonzeros in inequality constraint Jacobian.:        0\n",
      "Number of nonzeros in Lagrangian Hessian.............:        0\n",
      "\n",
      "Total number of variables............................:        6\n",
      "                     variables with only lower bounds:        4\n",
      "                variables with lower and upper bounds:        2\n",
      "                     variables with only upper bounds:        0\n",
      "Total number of equality constraints.................:        4\n",
      "Total number of inequality constraints...............:        0\n",
      "        inequality constraints with only lower bounds:        0\n",
      "   inequality constraints with lower and upper bounds:        0\n",
      "        inequality constraints with only upper bounds:        0\n",
      "\n",
      "iter    objective    inf_pr   inf_du lg(mu)  ||d||  lg(rg) alpha_du alpha_pr  ls\n",
      "   0 -9.4999905e-01 4.20e+04 1.16e+00   0.0 0.00e+00    -  0.00e+00 0.00e+00   0\n",
      "   1 -9.5286742e-01 4.20e+04 1.90e+00   2.9 3.66e+03    -  3.56e-06 1.49e-06f  2\n",
      "   2 -1.1043596e+00 4.20e+04 7.25e+00   2.9 1.04e+04    -  3.96e-05 1.14e-04f  1\n",
      "   3r-1.1043596e+00 4.20e+04 9.99e+02   3.8 0.00e+00    -  0.00e+00 4.33e-07R  5\n",
      "   4r-1.7843885e+03 1.23e+04 9.86e+03  -2.5 1.41e+05    -  1.56e-05 2.81e-02f  1\n",
      "   5 -1.7842699e+03 1.23e+04 4.89e+01   3.0 8.76e+03    -  1.67e-04 3.71e-04h  1\n",
      "   6 -1.7834986e+03 1.23e+04 4.50e+01   2.9 8.73e+03    -  1.36e-03 2.12e-03f  1\n",
      "   7 -1.7849429e+03 1.22e+04 5.21e+02   3.0 2.09e+04    -  4.65e-04 3.60e-03f  1\n",
      "   8 -1.8295176e+03 9.66e-13 1.75e+03   2.3 1.29e+04    -  8.46e-03 1.00e+00f  1\n",
      "   9 -1.8309278e+03 3.64e-12 1.66e+00   1.4 6.07e+01    -  9.80e-01 1.00e+00f  1\n",
      "iter    objective    inf_pr   inf_du lg(mu)  ||d||  lg(rg) alpha_du alpha_pr  ls\n",
      "  10 -1.8644126e+03 2.05e-12 2.25e-01   0.6 7.70e+02    -  8.20e-01 1.00e+00f  1\n",
      "  11 -1.8780417e+03 1.82e-12 2.13e-01  -1.1 3.15e+02    -  9.75e-01 7.08e-01f  1\n",
      "Reallocating memory for MA57: lfact (159)\n",
      "  12 -1.8798773e+03 3.64e-12 1.69e-02  -1.6 4.67e+01    -  9.78e-01 1.00e+00f  1\n",
      "  13 -1.8799985e+03 1.91e-12 9.77e-05  -3.5 3.18e+00    -  9.96e-01 9.93e-01f  1\n",
      "  14 -1.8800000e+03 3.64e-12 1.14e-07  -9.3 2.50e-02    -  9.99e-01 9.99e-01f  1\n",
      "  15 -1.8800000e+03 3.64e-12 3.57e-15 -11.0 2.96e-05    -  1.00e+00 1.00e+00h  1\n",
      "\n",
      "Number of Iterations....: 15\n",
      "\n",
      "                                   (scaled)                 (unscaled)\n",
      "Objective...............:  -1.8800000000011801e+03   -1.8800000000011801e+03\n",
      "Dual infeasibility......:   3.5652949768034243e-15    3.5652949768034243e-15\n",
      "Constraint violation....:   6.0632980118195223e-13    3.6379788070917130e-12\n",
      "Complementarity.........:   1.0005387323934168e-11    1.0005387323934168e-11\n",
      "Overall NLP error.......:   1.0005387323934168e-11    1.0005387323934168e-11\n",
      "\n",
      "\n",
      "Number of objective function evaluations             = 22\n",
      "Number of objective gradient evaluations             = 16\n",
      "Number of equality constraint evaluations            = 22\n",
      "Number of inequality constraint evaluations          = 0\n",
      "Number of equality constraint Jacobian evaluations   = 17\n",
      "Number of inequality constraint Jacobian evaluations = 0\n",
      "Number of Lagrangian Hessian evaluations             = 15\n",
      "Total CPU secs in IPOPT (w/o function evaluations)   =      0.005\n",
      "Total CPU secs in NLP function evaluations           =      0.000\n",
      "\n",
      "EXIT: Optimal Solution Found.\n",
      " \n",
      " The solution was found.\n",
      " \n",
      " The final value of the objective function is   -1880.00000000118     \n",
      " \n",
      " ---------------------------------------------------\n",
      " Solver         :  IPOPT (v3.12)\n",
      " Solution time  :   1.880000000164728E-002 sec\n",
      " Objective      :   -1880.00000000118     \n",
      " Successful solution\n",
      " ---------------------------------------------------\n",
      " \n",
      "Opening display in default webbrowser at http://localhost:8050/index.html. \n",
      "Close display tab or type CTRL+C to exit.\n",
      "Starting Flask Thread on port 8050\n"
     ]
    },
    {
     "ename": "IndexError",
     "evalue": "list index out of range",
     "output_type": "error",
     "traceback": [
      "\u001b[1;31m---------------------------------------------------------------------------\u001b[0m",
      "\u001b[1;31mIndexError\u001b[0m                                Traceback (most recent call last)",
      "\u001b[1;32m<ipython-input-49-d13e01556510>\u001b[0m in \u001b[0;36m<module>\u001b[1;34m\u001b[0m\n\u001b[1;32m----> 1\u001b[1;33m \u001b[0mmodel\u001b[0m\u001b[1;33m.\u001b[0m\u001b[0msolve\u001b[0m\u001b[1;33m(\u001b[0m\u001b[0mdisp\u001b[0m\u001b[1;33m=\u001b[0m\u001b[1;32mTrue\u001b[0m\u001b[1;33m,\u001b[0m\u001b[0mdebug\u001b[0m\u001b[1;33m=\u001b[0m\u001b[1;36m0\u001b[0m\u001b[1;33m,\u001b[0m \u001b[0mGUI\u001b[0m\u001b[1;33m=\u001b[0m\u001b[1;32mTrue\u001b[0m\u001b[1;33m)\u001b[0m\u001b[1;33m\u001b[0m\u001b[1;33m\u001b[0m\u001b[0m\n\u001b[0m\u001b[0;32m      2\u001b[0m \u001b[0mp1\u001b[0m \u001b[1;33m=\u001b[0m \u001b[0mx1\u001b[0m\u001b[1;33m.\u001b[0m\u001b[0mvalue\u001b[0m\u001b[1;33m[\u001b[0m\u001b[1;36m0\u001b[0m\u001b[1;33m]\u001b[0m\u001b[1;33m;\u001b[0m \u001b[0mp2\u001b[0m \u001b[1;33m=\u001b[0m \u001b[0mx2\u001b[0m\u001b[1;33m.\u001b[0m\u001b[0mvalue\u001b[0m\u001b[1;33m[\u001b[0m\u001b[1;36m0\u001b[0m\u001b[1;33m]\u001b[0m\u001b[1;33m\u001b[0m\u001b[1;33m\u001b[0m\u001b[0m\n",
      "\u001b[1;32m~\\Python3.7\\lib\\site-packages\\gekko\\gekko.py\u001b[0m in \u001b[0;36msolve\u001b[1;34m(self, disp, debug, GUI, **kwargs)\u001b[0m\n\u001b[0;32m   2231\u001b[0m             \u001b[0mself\u001b[0m\u001b[1;33m.\u001b[0m\u001b[0m_gui_open\u001b[0m \u001b[1;33m=\u001b[0m \u001b[1;32mTrue\u001b[0m\u001b[1;33m\u001b[0m\u001b[1;33m\u001b[0m\u001b[0m\n\u001b[0;32m   2232\u001b[0m             \u001b[0mself\u001b[0m\u001b[1;33m.\u001b[0m\u001b[0mgui\u001b[0m \u001b[1;33m=\u001b[0m \u001b[0mGK_GUI\u001b[0m\u001b[1;33m(\u001b[0m\u001b[0mself\u001b[0m\u001b[1;33m.\u001b[0m\u001b[0m_path\u001b[0m\u001b[1;33m)\u001b[0m\u001b[1;33m\u001b[0m\u001b[1;33m\u001b[0m\u001b[0m\n\u001b[1;32m-> 2233\u001b[1;33m             \u001b[0mself\u001b[0m\u001b[1;33m.\u001b[0m\u001b[0mgui\u001b[0m\u001b[1;33m.\u001b[0m\u001b[0mdisplay\u001b[0m\u001b[1;33m(\u001b[0m\u001b[1;33m)\u001b[0m\u001b[1;33m\u001b[0m\u001b[1;33m\u001b[0m\u001b[0m\n\u001b[0m\u001b[0;32m   2234\u001b[0m \u001b[1;33m\u001b[0m\u001b[0m\n\u001b[0;32m   2235\u001b[0m     \u001b[1;31m#%% Name matching\u001b[0m\u001b[1;33m\u001b[0m\u001b[1;33m\u001b[0m\u001b[1;33m\u001b[0m\u001b[0m\n",
      "\u001b[1;32m~\\Python3.7\\lib\\site-packages\\gekko\\gk_gui.py\u001b[0m in \u001b[0;36mdisplay\u001b[1;34m(self)\u001b[0m\n\u001b[0;32m    476\u001b[0m             \u001b[0mprint\u001b[0m\u001b[1;33m(\u001b[0m\u001b[1;34m'Starting Flask Thread on port {}'\u001b[0m\u001b[1;33m.\u001b[0m\u001b[0mformat\u001b[0m\u001b[1;33m(\u001b[0m\u001b[0mport\u001b[0m\u001b[1;33m)\u001b[0m\u001b[1;33m)\u001b[0m\u001b[1;33m\u001b[0m\u001b[1;33m\u001b[0m\u001b[0m\n\u001b[0;32m    477\u001b[0m             \u001b[0mwebbrowser\u001b[0m\u001b[1;33m.\u001b[0m\u001b[0mopen\u001b[0m\u001b[1;33m(\u001b[0m\u001b[1;34m\"http://localhost:\"\u001b[0m \u001b[1;33m+\u001b[0m \u001b[0mstr\u001b[0m\u001b[1;33m(\u001b[0m\u001b[0mport\u001b[0m\u001b[1;33m)\u001b[0m \u001b[1;33m+\u001b[0m \u001b[1;34m\"/index.html\"\u001b[0m\u001b[1;33m)\u001b[0m\u001b[1;33m\u001b[0m\u001b[1;33m\u001b[0m\u001b[0m\n\u001b[1;32m--> 478\u001b[1;33m             \u001b[0mflaskThread\u001b[0m \u001b[1;33m=\u001b[0m \u001b[0mFlaskThread\u001b[0m\u001b[1;33m(\u001b[0m\u001b[0mself\u001b[0m\u001b[1;33m.\u001b[0m\u001b[0mpath\u001b[0m\u001b[1;33m,\u001b[0m \u001b[1;32mFalse\u001b[0m\u001b[1;33m,\u001b[0m \u001b[0mport\u001b[0m\u001b[1;33m)\u001b[0m\u001b[1;33m\u001b[0m\u001b[1;33m\u001b[0m\u001b[0m\n\u001b[0m\u001b[0;32m    479\u001b[0m             \u001b[1;31m# flaskThread.daemon = True\u001b[0m\u001b[1;33m\u001b[0m\u001b[1;33m\u001b[0m\u001b[1;33m\u001b[0m\u001b[0m\n\u001b[0;32m    480\u001b[0m             \u001b[0mflaskThread\u001b[0m\u001b[1;33m.\u001b[0m\u001b[0mstart\u001b[0m\u001b[1;33m(\u001b[0m\u001b[1;33m)\u001b[0m\u001b[1;33m\u001b[0m\u001b[1;33m\u001b[0m\u001b[0m\n",
      "\u001b[1;32m~\\Python3.7\\lib\\site-packages\\gekko\\gk_gui.py\u001b[0m in \u001b[0;36m__init__\u001b[1;34m(self, path, debug, port)\u001b[0m\n\u001b[0;32m     79\u001b[0m         \u001b[0mself\u001b[0m\u001b[1;33m.\u001b[0m\u001b[0mmodel\u001b[0m \u001b[1;33m=\u001b[0m \u001b[1;33m{\u001b[0m\u001b[1;33m}\u001b[0m              \u001b[1;31m# APM model information\u001b[0m\u001b[1;33m\u001b[0m\u001b[1;33m\u001b[0m\u001b[0m\n\u001b[0;32m     80\u001b[0m         \u001b[0mself\u001b[0m\u001b[1;33m.\u001b[0m\u001b[0minfo\u001b[0m \u001b[1;33m=\u001b[0m \u001b[1;33m{\u001b[0m\u001b[1;33m}\u001b[0m\u001b[1;33m\u001b[0m\u001b[1;33m\u001b[0m\u001b[0m\n\u001b[1;32m---> 81\u001b[1;33m         \u001b[0mself\u001b[0m\u001b[1;33m.\u001b[0m\u001b[0mget_script_data\u001b[0m\u001b[1;33m(\u001b[0m\u001b[1;33m)\u001b[0m\u001b[1;33m\u001b[0m\u001b[1;33m\u001b[0m\u001b[0m\n\u001b[0m\u001b[0;32m     82\u001b[0m         \u001b[0mself\u001b[0m\u001b[1;33m.\u001b[0m\u001b[0mhas_data\u001b[0m \u001b[1;33m=\u001b[0m \u001b[1;32mTrue\u001b[0m\u001b[1;33m\u001b[0m\u001b[1;33m\u001b[0m\u001b[0m\n\u001b[0;32m     83\u001b[0m \u001b[1;33m\u001b[0m\u001b[0m\n",
      "\u001b[1;32m~\\Python3.7\\lib\\site-packages\\gekko\\gk_gui.py\u001b[0m in \u001b[0;36mget_script_data\u001b[1;34m(self)\u001b[0m\n\u001b[0;32m    320\u001b[0m \u001b[1;33m\u001b[0m\u001b[0m\n\u001b[0;32m    321\u001b[0m         \u001b[1;32mexcept\u001b[0m \u001b[0mException\u001b[0m \u001b[1;32mas\u001b[0m \u001b[0me\u001b[0m\u001b[1;33m:\u001b[0m\u001b[1;33m\u001b[0m\u001b[1;33m\u001b[0m\u001b[0m\n\u001b[1;32m--> 322\u001b[1;33m             \u001b[1;32mraise\u001b[0m \u001b[0me\u001b[0m\u001b[1;33m\u001b[0m\u001b[1;33m\u001b[0m\u001b[0m\n\u001b[0m\u001b[0;32m    323\u001b[0m \u001b[1;33m\u001b[0m\u001b[0m\n\u001b[0;32m    324\u001b[0m     \u001b[1;32mdef\u001b[0m \u001b[0mhandle_api_call\u001b[0m\u001b[1;33m(\u001b[0m\u001b[0mself\u001b[0m\u001b[1;33m,\u001b[0m \u001b[0mdata\u001b[0m\u001b[1;33m)\u001b[0m\u001b[1;33m:\u001b[0m\u001b[1;33m\u001b[0m\u001b[1;33m\u001b[0m\u001b[0m\n",
      "\u001b[1;32m~\\Python3.7\\lib\\site-packages\\gekko\\gk_gui.py\u001b[0m in \u001b[0;36mget_script_data\u001b[1;34m(self)\u001b[0m\n\u001b[0;32m    314\u001b[0m             \u001b[1;32mfor\u001b[0m \u001b[0mvar\u001b[0m \u001b[1;32min\u001b[0m \u001b[0mmain_dict\u001b[0m\u001b[1;33m:\u001b[0m\u001b[1;33m\u001b[0m\u001b[1;33m\u001b[0m\u001b[0m\n\u001b[0;32m    315\u001b[0m                 \u001b[1;32mif\u001b[0m \u001b[1;33m(\u001b[0m\u001b[0mvar\u001b[0m \u001b[1;33m!=\u001b[0m \u001b[1;34m'time'\u001b[0m\u001b[1;33m)\u001b[0m \u001b[1;32mand\u001b[0m \u001b[0misinstance\u001b[0m\u001b[1;33m(\u001b[0m\u001b[0mmain_dict\u001b[0m\u001b[1;33m[\u001b[0m\u001b[0mvar\u001b[0m\u001b[1;33m]\u001b[0m\u001b[1;33m,\u001b[0m \u001b[1;33m(\u001b[0m\u001b[0mGKVariable\u001b[0m\u001b[1;33m,\u001b[0m \u001b[0mGKParameter\u001b[0m\u001b[1;33m,\u001b[0m \u001b[0mGK_Intermediate\u001b[0m\u001b[1;33m)\u001b[0m\u001b[1;33m)\u001b[0m\u001b[1;33m:\u001b[0m\u001b[1;33m\u001b[0m\u001b[1;33m\u001b[0m\u001b[0m\n\u001b[1;32m--> 316\u001b[1;33m                     \u001b[0mself\u001b[0m\u001b[1;33m.\u001b[0m\u001b[0mget_var_from_main\u001b[0m\u001b[1;33m(\u001b[0m\u001b[0mvar\u001b[0m\u001b[1;33m)\u001b[0m\u001b[1;33m\u001b[0m\u001b[1;33m\u001b[0m\u001b[0m\n\u001b[0m\u001b[0;32m    317\u001b[0m             \u001b[0mself\u001b[0m\u001b[1;33m.\u001b[0m\u001b[0mget_options\u001b[0m\u001b[1;33m(\u001b[0m\u001b[1;33m)\u001b[0m\u001b[1;33m\u001b[0m\u001b[1;33m\u001b[0m\u001b[0m\n\u001b[0;32m    318\u001b[0m \u001b[1;33m\u001b[0m\u001b[0m\n",
      "\u001b[1;32m~\\Python3.7\\lib\\site-packages\\gekko\\gk_gui.py\u001b[0m in \u001b[0;36mget_var_from_main\u001b[1;34m(self, var)\u001b[0m\n\u001b[0;32m    239\u001b[0m         \u001b[0mdata\u001b[0m \u001b[1;33m=\u001b[0m \u001b[1;32mFalse\u001b[0m\u001b[1;33m\u001b[0m\u001b[1;33m\u001b[0m\u001b[0m\n\u001b[0;32m    240\u001b[0m         \u001b[1;32mif\u001b[0m \u001b[0misinstance\u001b[0m\u001b[1;33m(\u001b[0m\u001b[0mmain_dict\u001b[0m\u001b[1;33m[\u001b[0m\u001b[0mvar\u001b[0m\u001b[1;33m]\u001b[0m\u001b[1;33m,\u001b[0m \u001b[0mGKVariable\u001b[0m\u001b[1;33m)\u001b[0m\u001b[1;33m:\u001b[0m\u001b[1;33m\u001b[0m\u001b[1;33m\u001b[0m\u001b[0m\n\u001b[1;32m--> 241\u001b[1;33m             \u001b[0mself\u001b[0m\u001b[1;33m.\u001b[0m\u001b[0mget_variable_fron_main\u001b[0m\u001b[1;33m(\u001b[0m\u001b[0mvar\u001b[0m\u001b[1;33m)\u001b[0m\u001b[1;33m\u001b[0m\u001b[1;33m\u001b[0m\u001b[0m\n\u001b[0m\u001b[0;32m    242\u001b[0m             \u001b[1;32mreturn\u001b[0m\u001b[1;33m\u001b[0m\u001b[1;33m\u001b[0m\u001b[0m\n\u001b[0;32m    243\u001b[0m         \u001b[1;32melif\u001b[0m \u001b[0misinstance\u001b[0m\u001b[1;33m(\u001b[0m\u001b[0mmain_dict\u001b[0m\u001b[1;33m[\u001b[0m\u001b[0mvar\u001b[0m\u001b[1;33m]\u001b[0m\u001b[1;33m,\u001b[0m \u001b[0mGKParameter\u001b[0m\u001b[1;33m)\u001b[0m\u001b[1;33m:\u001b[0m\u001b[1;33m\u001b[0m\u001b[1;33m\u001b[0m\u001b[0m\n",
      "\u001b[1;32m~\\Python3.7\\lib\\site-packages\\gekko\\gk_gui.py\u001b[0m in \u001b[0;36mget_variable_fron_main\u001b[1;34m(self, variable)\u001b[0m\n\u001b[0;32m    113\u001b[0m \u001b[1;33m\u001b[0m\u001b[0m\n\u001b[0;32m    114\u001b[0m         \u001b[1;31m## Store historical data\u001b[0m\u001b[1;33m\u001b[0m\u001b[1;33m\u001b[0m\u001b[1;33m\u001b[0m\u001b[0m\n\u001b[1;32m--> 115\u001b[1;33m         \u001b[0mtimestep\u001b[0m \u001b[1;33m=\u001b[0m \u001b[0mself\u001b[0m\u001b[1;33m.\u001b[0m\u001b[0mresults\u001b[0m\u001b[1;33m[\u001b[0m\u001b[1;34m'time'\u001b[0m\u001b[1;33m]\u001b[0m\u001b[1;33m[\u001b[0m\u001b[1;36m1\u001b[0m\u001b[1;33m]\u001b[0m \u001b[1;33m-\u001b[0m \u001b[0mself\u001b[0m\u001b[1;33m.\u001b[0m\u001b[0mresults\u001b[0m\u001b[1;33m[\u001b[0m\u001b[1;34m'time'\u001b[0m\u001b[1;33m]\u001b[0m\u001b[1;33m[\u001b[0m\u001b[1;36m0\u001b[0m\u001b[1;33m]\u001b[0m\u001b[1;33m\u001b[0m\u001b[1;33m\u001b[0m\u001b[0m\n\u001b[0m\u001b[0;32m    116\u001b[0m \u001b[1;33m\u001b[0m\u001b[0m\n\u001b[0;32m    117\u001b[0m         \u001b[1;32mif\u001b[0m \u001b[0misinstance\u001b[0m\u001b[1;33m(\u001b[0m\u001b[0mmain_dict\u001b[0m\u001b[1;33m[\u001b[0m\u001b[0mvariable\u001b[0m\u001b[1;33m]\u001b[0m\u001b[1;33m,\u001b[0m \u001b[1;33m(\u001b[0m\u001b[0mGK_CV\u001b[0m\u001b[1;33m,\u001b[0m \u001b[0mGK_SV\u001b[0m\u001b[1;33m)\u001b[0m\u001b[1;33m)\u001b[0m\u001b[1;33m:\u001b[0m\u001b[1;33m\u001b[0m\u001b[1;33m\u001b[0m\u001b[0m\n",
      "\u001b[1;31mIndexError\u001b[0m: list index out of range"
     ]
    }
   ],
   "source": [
    "model.solve(disp=True,debug=0, GUI=True)\n",
    "p1 = x1.value[0]; p2 = x2.value[0]"
   ]
  },
  {
   "cell_type": "code",
   "execution_count": 50,
   "metadata": {},
   "outputs": [
    {
     "name": "stdout",
     "output_type": "stream",
     "text": [
      "Product 1 (DH) in Kgs: 24.0\n",
      "Product 2 (TH) in Kgs: 16.0\n",
      "Profit       : Rs.1880.0\n"
     ]
    }
   ],
   "source": [
    "print ('Product 1 (DH) in Kgs: ' + str(p1))\n",
    "print ('Product 2 (TH) in Kgs: ' + str(p2))\n",
    "print ('Profit       : Rs.' + str(45*p1+50*p2))"
   ]
  },
  {
   "cell_type": "code",
   "execution_count": null,
   "metadata": {},
   "outputs": [],
   "source": []
  }
 ],
 "metadata": {
  "kernelspec": {
   "display_name": "Python 3",
   "language": "python",
   "name": "python3"
  },
  "language_info": {
   "codemirror_mode": {
    "name": "ipython",
    "version": 3
   },
   "file_extension": ".py",
   "mimetype": "text/x-python",
   "name": "python",
   "nbconvert_exporter": "python",
   "pygments_lexer": "ipython3",
   "version": "3.7.6"
  }
 },
 "nbformat": 4,
 "nbformat_minor": 4
}
