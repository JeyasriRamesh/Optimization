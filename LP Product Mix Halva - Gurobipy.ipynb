{
 "cells": [
  {
   "cell_type": "markdown",
   "metadata": {},
   "source": [
    "Problem statement : https://drive.google.com/file/d/1eVUC3bp3aC5V7IVW3vMDCUkirSnb1h_9/view?usp=sharing\n",
    "\n",
    "Copyrights: U Dinesh Kumar. Business Analytics: The Science of Data-Driven Decision Making (p. 528). Wiley India. Kindle Edition."
   ]
  },
  {
   "cell_type": "markdown",
   "metadata": {},
   "source": [
    "<b>Decision Variables</b> \n",
    "\n",
    "X1 = Quantity (in kilogram) of DH to be produced  \n",
    "X2 = Quantity (in kilogram) of TH to be produced \n",
    "\n",
    "\n",
    "<b> Objective function </b>\n",
    "\n",
    "The objective is to maximize the profit. The profit on DH per kg is 45 and the profit  on TH per kg is 50. \n",
    "\n",
    "Maximize => 45 X1 + 50 X2 \n",
    "\n",
    "<b> Constraints </b>\n",
    "\n",
    "Constraint for corn flour => 20,000 grams of corn flour is available. Each kg of  AH requires 500 grams of corn flour and each kg of TH 500 grams of corn flour.  \n",
    "\n",
    "Thus, the corresponding constraint is  500 X1 + 500 X2 <= 20000  \n",
    "\n",
    "Constraint for sugar => 42,000 kg of sugar is available. Each kg of DH requires  750 grams of sugar and each kg of TH 625 grams of sugar. \n",
    "\n",
    "Thus the corresponding  constraint is  750 X1 + 625 X2 <= 42000  \n",
    "\n",
    "Constraint for fruit and nut => 10,400 kg of fruit and nut is available. Each kg of  DH requires 150 grams of fruit and nut and each kg of TH requires 100 grams of fruit  and nut. \n",
    "\n",
    "Thus the corresponding constraint is  150 X1 + 100 X2 <= 10400  \n",
    "\n",
    "Constraint for ghee => 9,600 kg of ghee is available. Each kg of DH requires 200  grams of ghee and each kg of TH requires 300 grams of ghee. \n",
    "\n",
    "Thus the corresponding  constraint is  200X1 + 300X2 <= 9600  \n",
    "\n",
    "Maximum demand constraint => The maximum daily demand for DH and TH  are 50 kg and 20 kg, respectively, which can be written as \n",
    "\n",
    "X1 ≤ 50 and X2 ≤ 20. \n",
    "\n",
    "Implicit constraints => X1, X2 - Non-negative. \n",
    "\n",
    "X1 >= 0 and X2 >= 0\n"
   ]
  },
  {
   "cell_type": "code",
   "execution_count": 1,
   "metadata": {},
   "outputs": [],
   "source": [
    "import numpy as np\n",
    "from gurobipy import *"
   ]
  },
  {
   "cell_type": "code",
   "execution_count": 2,
   "metadata": {},
   "outputs": [],
   "source": [
    "var_names = ['x1', 'x2']\n",
    "res_names = ['cornflour', 'sugar', 'fruit_nut','ghee','x1','x2']\n",
    "profit = np.array([45, 50])                      # unit profits\n",
    "res_used = np.array([[500, 500], [750, 625], [150, 100], [200,300], [1,0], [0,1]])    # resource consumption\n",
    "res_avail = np.array([20000, 42000, 10400, 9600, 50, 20])            # resource availability\n",
    "\n",
    "n = len(profit)                                    # number of variables\n",
    "m = len(res_avail)                                 # number of constraints\n",
    "assert (res_used.shape == (m, n)) and (len(var_names) == n) and (len(res_names) == m)"
   ]
  },
  {
   "cell_type": "code",
   "execution_count": 3,
   "metadata": {},
   "outputs": [
    {
     "name": "stdout",
     "output_type": "stream",
     "text": [
      "Using license file C:\\Users\\Vinu\\gurobi.lic\n",
      "Academic license - for non-commercial use only\n",
      "Gurobi Optimizer version 9.0.3 build v9.0.3rc0 (win64)\n",
      "Optimize a model with 6 rows, 2 columns and 10 nonzeros\n",
      "Model fingerprint: 0x5718e378\n",
      "Coefficient statistics:\n",
      "  Matrix range     [1e+00, 8e+02]\n",
      "  Objective range  [5e+01, 5e+01]\n",
      "  Bounds range     [0e+00, 0e+00]\n",
      "  RHS range        [2e+01, 4e+04]\n",
      "Presolve removed 3 rows and 0 columns\n",
      "Presolve time: 0.15s\n",
      "Presolved: 3 rows, 2 columns, 6 nonzeros\n",
      "\n",
      "Iteration    Objective       Primal Inf.    Dual Inf.      Time\n",
      "       0    2.0000000e+03   7.900000e+02   0.000000e+00      0s\n",
      "       2    1.8800000e+03   0.000000e+00   0.000000e+00      0s\n",
      "\n",
      "Solved in 2 iterations and 0.24 seconds\n",
      "Optimal objective  1.880000000e+03\n"
     ]
    }
   ],
   "source": [
    "model = Model()\n",
    "x = model.addVars(n, name=var_names) # production variables\n",
    "obj = model.setObjective(quicksum(profit[j] * x[j] for j in range(n)), GRB.MAXIMIZE)\n",
    "con = []\n",
    "for i in range(m):\n",
    "    con.append(model.addConstr(quicksum(res_used[i, j] * x[j] for j in range(n)) <= res_avail[i], name=res_names[i]))\n",
    "model.optimize()"
   ]
  },
  {
   "cell_type": "code",
   "execution_count": 4,
   "metadata": {},
   "outputs": [
    {
     "name": "stdout",
     "output_type": "stream",
     "text": [
      "Sensitivity Analysis (SA)\n",
      "ObjVal = 1880.0\n",
      "\n",
      "    Variable            X          Obj     SAObjLow      SAObjUp \n",
      "----------------------------------------------------------------\n",
      "          x1           24           45      33.3333           50 \n",
      "          x2           16           50           45         67.5 \n",
      "\n",
      "    Variable            X           RC           LB      SALBLow       SALBUp           UB      SAUBLow       SAUBUp \n",
      "--------------------------------------------------------------------------------------------------------------------\n",
      "          x1           24            0            0         -inf           24          inf           24          inf \n",
      "          x2           16            0            0         -inf           16          inf           16          inf \n",
      "\n",
      "  Constraint        Sense        Slack           Pi          RHS     SARHSLow      SARHSUp \n",
      "------------------------------------------------------------------------------------------\n",
      "   cornflour            <            0         0.07        20000        19000        24000 \n",
      "       sugar            <        14000            0        42000        28000          inf \n",
      "   fruit_nut            <         5200            0        10400         5200          inf \n",
      "        ghee            <            0         0.05         9600         8000        10000 \n",
      "          x1            <           26            0           50           24          inf \n",
      "          x2            <            4            0           20           16          inf \n"
     ]
    }
   ],
   "source": [
    "print('Sensitivity Analysis (SA)\\nObjVal =', model.ObjVal)\n",
    "model.printAttr(['X', 'Obj', 'SAObjLow', 'SAObjUp'])\n",
    "model.printAttr(['X', 'RC', 'LB', 'SALBLow', 'SALBUp', 'UB', 'SAUBLow', 'SAUBUp'])\n",
    "model.printAttr(['Sense', 'Slack', 'Pi', 'RHS', 'SARHSLow', 'SARHSUp']) # Pi = shadow price = dual variable value\n",
    "# NOTE: printAttr prints only rows with at least one NON-ZERO value, e.g. model.printAttr('X') prints only non-zero variable values"
   ]
  },
  {
   "cell_type": "code",
   "execution_count": 5,
   "metadata": {},
   "outputs": [
    {
     "name": "stdout",
     "output_type": "stream",
     "text": [
      "X = [24.0, 16.0] \n",
      "ObjVal = 1880.0 \n",
      "Pi = [0.07, 0.0, 0.0, 0.05, 0.0, 0.0]\n",
      "x0 = 24.0\n",
      "Pi0 = 0.07\n"
     ]
    }
   ],
   "source": [
    "print(\"X =\", model.X, \"\\nObjVal =\", model.ObjVal, \"\\nPi =\", model.Pi) # reading model attributes\n",
    "print(\"x0 =\", x[0].X) # reading variables attributes\n",
    "print(\"Pi0 =\", con[0].Pi) # reading constraint attributes"
   ]
  },
  {
   "cell_type": "code",
   "execution_count": 6,
   "metadata": {},
   "outputs": [
    {
     "name": "stdout",
     "output_type": "stream",
     "text": [
      "\n",
      "    ROUTINE:\n",
      "      addVar(lb, ub, obj, vtype, name, column)\n",
      "\n",
      "    PURPOSE:\n",
      "      Add a variable to the model.\n",
      "\n",
      "    ARGUMENTS:\n",
      "      lb (float): Lower bound (default is zero)\n",
      "      ub (float): Upper bound (default is infinite)\n",
      "      obj (float): Objective coefficient (default is zero)\n",
      "      vtype (string): Variable type (default is GRB.CONTINUOUS)\n",
      "      name (string): Variable name (default is no name)\n",
      "      column (Column): Initial coefficients for column (default is None)\n",
      "\n",
      "    RETURN VALUE:\n",
      "      The created Var object.\n",
      "\n",
      "    EXAMPLE:\n",
      "      v = model.addVar(ub=2.0, name=\"NewVar\")\n",
      "    \n"
     ]
    }
   ],
   "source": [
    "help(Model.addVar)\n",
    "#help(Model.addVars)\n",
    "#help(Model.setObjective)\n",
    "#help(Model.addConstr)\n",
    "#help(Model.addConstrs)"
   ]
  },
  {
   "cell_type": "code",
   "execution_count": null,
   "metadata": {},
   "outputs": [],
   "source": []
  }
 ],
 "metadata": {
  "kernelspec": {
   "display_name": "Python 3",
   "language": "python",
   "name": "python3"
  },
  "language_info": {
   "codemirror_mode": {
    "name": "ipython",
    "version": 3
   },
   "file_extension": ".py",
   "mimetype": "text/x-python",
   "name": "python",
   "nbconvert_exporter": "python",
   "pygments_lexer": "ipython3",
   "version": "3.7.6"
  }
 },
 "nbformat": 4,
 "nbformat_minor": 4
}
